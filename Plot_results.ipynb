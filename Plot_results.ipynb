{
 "cells": [
  {
   "cell_type": "markdown",
   "id": "5e47abd0",
   "metadata": {},
   "source": [
    "## Import pred_boxes, true_boxes"
   ]
  },
  {
   "cell_type": "code",
   "execution_count": 2,
   "id": "80925fed",
   "metadata": {},
   "outputs": [],
   "source": [
    "import pickle\n",
    "a_file = open(\"/content/drive/MyDrive/THEODORE/pred_boxes.pkl\", \"rb\")\n",
    "pred_boxes = pickle.load(a_file)\n",
    "a_file.close()\n",
    "\n",
    "b_file = open(\"/content/drive/MyDrive/THEODORE/true_boxes.pkl\", \"rb\")\n",
    "true_boxes = pickle.load(b_file)\n",
    "b_file.close()"
   ]
  },
  {
   "cell_type": "markdown",
   "id": "59e0b260",
   "metadata": {},
   "source": [
    "## Plot Function"
   ]
  },
  {
   "cell_type": "code",
   "execution_count": null,
   "id": "b96728d9",
   "metadata": {},
   "outputs": [],
   "source": [
    "import numpy as np\n",
    "import pandas as pd\n",
    "import matplotlib.pyplot as plt\n",
    "import matplotlib.patches as patches\n",
    "\n",
    "def plot_bbox(image, boxes, ax):\n",
    "  idx = 0\n",
    "  cmap = plt.get_cmap(\"tab20b\")\n",
    "  class_labels = ['person', 'chair', 'table', 'armchair', 'tv', 'wheeled walker']\n",
    "  colors = [cmap(i) for i in np.linspace(0, 1, len(class_labels))]\n",
    "  height, width, ch = image.shape\n",
    "\n",
    "  # Create a Rectangle patch\n",
    "  for box in (boxes):\n",
    "      class_pred = box[1]\n",
    "      box = box[3:]\n",
    "      upper_left_x = box[0] - box[2] / 2\n",
    "      upper_left_y = box[1] - box[3] / 2\n",
    "      rect = patches.Rectangle(\n",
    "          (upper_left_x * width, upper_left_y * height),\n",
    "          box[2] * width,\n",
    "          box[3] * height,\n",
    "          linewidth=2,\n",
    "          edgecolor=colors[int(class_pred)],\n",
    "          facecolor=\"none\",\n",
    "      )\n",
    "      # Add the patch to the Axes\n",
    "      ax.add_patch(rect)\n",
    "      plt.text(\n",
    "          upper_left_x * width,\n",
    "          upper_left_y * height,\n",
    "          s=class_labels[int(class_pred)],\n",
    "          color=\"white\",\n",
    "          verticalalignment=\"top\",\n",
    "          bbox={\"color\": colors[int(class_pred)], \"pad\": 0},\n",
    "      )"
   ]
  },
  {
   "cell_type": "code",
   "execution_count": null,
   "id": "62d4efb7",
   "metadata": {},
   "outputs": [],
   "source": [
    "image_list = pd.read_csv(outputPath + \"/test.csv\", header=None).iloc[:,1]"
   ]
  },
  {
   "cell_type": "code",
   "execution_count": null,
   "id": "4bbf53ab",
   "metadata": {},
   "outputs": [],
   "source": [
    "import copy\n",
    "import ipywidgets as ipw\n",
    "\n",
    "@ipw.interact(i=ipw.IntSlider(min=0,max=len(image_list)-1))\n",
    "def f(i):\n",
    "    fig = plt.figure(figsize=(10,10))\n",
    "    ax = fig.add_subplot(1,1,1)\n",
    "    img_to_plot = plt.imread(outputPath +\"/images\"+\"/\"+ image_list[i].format(str(i).zfill(6)))\n",
    "    boxes_to_plot = [box for box in pred_boxes if box[0]==i]\n",
    "    true_box = [box for box in true_boxes if box[0]==i]\n",
    "\n",
    "    # check_true_box = copy.deepcopy(true_box)\n",
    "    # check_pred_box = copy.deepcopy(boxes_to_plot)\n",
    "    # for j, true in enumerate(check_true_box):\n",
    "    #     dist_list = []\n",
    "    #     for k, pred in enumerate(check_pred_box):\n",
    "    #         if true[1] == pred[1]:\n",
    "    #           dist = euclid(true[3], pred[3], true[4], pred[4])\n",
    "    #           dist_list.append((dist,k))\n",
    "    #     if dist_list:\n",
    "    #         minimum_dist = np.argmin(dist_list, axis=0)\n",
    "    #         check_pred_box.pop(dist_list[minimum_dist[0]][1])\n",
    "    # for left in check_pred_box:\n",
    "    #     x = int((left[3] - left[5]/2)*416)\n",
    "    #     x_plot = int((left[3])*416)\n",
    "    #     y = int((left[4] - left[6]/2)*416)\n",
    "    #     y_plot = int((left[4])*416)\n",
    "    #     print(f\"Wrong Number {int(left[1])} at {(x,y)}\")\n",
    "        # plt.plot(x_plot, y_plot,color=\"red\", marker=\"x\", markersize=25, linewidth=5)\n",
    "\n",
    "    plot_bbox(img_to_plot, boxes_to_plot,ax)\n",
    "    plt.imshow(img_to_plot)"
   ]
  }
 ],
 "metadata": {
  "kernelspec": {
   "display_name": "Python 3",
   "language": "python",
   "name": "python3"
  },
  "language_info": {
   "codemirror_mode": {
    "name": "ipython",
    "version": 3
   },
   "file_extension": ".py",
   "mimetype": "text/x-python",
   "name": "python",
   "nbconvert_exporter": "python",
   "pygments_lexer": "ipython3",
   "version": "3.8.2"
  },
  "varInspector": {
   "cols": {
    "lenName": 16,
    "lenType": 16,
    "lenVar": 40
   },
   "kernels_config": {
    "python": {
     "delete_cmd_postfix": "",
     "delete_cmd_prefix": "del ",
     "library": "var_list.py",
     "varRefreshCmd": "print(var_dic_list())"
    },
    "r": {
     "delete_cmd_postfix": ") ",
     "delete_cmd_prefix": "rm(",
     "library": "var_list.r",
     "varRefreshCmd": "cat(var_dic_list()) "
    }
   },
   "types_to_exclude": [
    "module",
    "function",
    "builtin_function_or_method",
    "instance",
    "_Feature"
   ],
   "window_display": false
  }
 },
 "nbformat": 4,
 "nbformat_minor": 5
}
